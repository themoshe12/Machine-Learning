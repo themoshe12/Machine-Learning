{
 "cells": [
  {
   "cell_type": "markdown",
   "metadata": {},
   "source": [
    "# Assignment 3 - Text Analysis\n",
    "An explanation this assignment could be found in the .pdf explanation document"
   ]
  },
  {
   "cell_type": "markdown",
   "metadata": {},
   "source": [
    "\n",
    "## Materials to review for this assignment\n",
    "<h4>From Moodle:</h4> \n",
    "<h5><u>Review the notebooks regarding the following python topics</u>:</h5>\n",
    "<div class=\"alert alert-info\">\n",
    "&#x2714; <b>Working with strings</b> (tutorial notebook)<br/>\n",
    "&#x2714; <b>Text Analysis</b> (tutorial notebook)<br/>\n",
    "&#x2714; <b>Hebrew text analysis tools (tokenizer, wordnet)</b> (moodle example)<br/>\n",
    "&#x2714; <b>(brief review) All previous notebooks</b><br/>\n",
    "</div> \n",
    "<h5><u>Review the presentations regarding the following topics</u>:</h5>\n",
    "<div class=\"alert alert-info\">\n",
    "&#x2714; <b>Text Analysis</b> (lecture presentation)<br/>\n",
    "&#x2714; <b>(brief review) All other presentations</b><br/>\n",
    "</div>"
   ]
  },
  {
   "cell_type": "markdown",
   "metadata": {},
   "source": [
    "## Personal Details:"
   ]
  },
  {
   "cell_type": "markdown",
   "metadata": {},
   "source": [
    "Dor Kremer </br>\n",
    "dorkremer1597@gmail.com</br>\n",
    "\n",
    "Michael Denis</br>\n",
    "themoshe12@gmail.com\n"
   ]
  },
  {
   "cell_type": "markdown",
   "metadata": {},
   "source": [
    "## Preceding Step - import modules (packages)\n",
    "This step is necessary in order to use external modules (packages). <br/>"
   ]
  },
  {
   "cell_type": "code",
   "execution_count": 2,
   "metadata": {},
   "outputs": [],
   "source": [
    "# --------------------------------------\n",
    "import pandas as pd\n",
    "import numpy as np\n",
    "# --------------------------------------\n",
    "\n",
    "\n",
    "# --------------------------------------\n",
    "# ------------- visualizations:\n",
    "import seaborn as sns\n",
    "import matplotlib.pyplot as plt\n",
    "from matplotlib.colors import ListedColormap\n",
    "# --------------------------------------\n",
    "\n",
    "\n",
    "# ---------------------------------------\n",
    "import sklearn\n",
    "from sklearn import preprocessing, metrics, pipeline, model_selection, feature_extraction \n",
    "from sklearn import naive_bayes, linear_model, svm, neural_network, neighbors, tree\n",
    "from sklearn import decomposition, cluster\n",
    "\n",
    "from sklearn.model_selection import train_test_split, cross_val_score, GridSearchCV \n",
    "from sklearn.pipeline import Pipeline\n",
    "from sklearn.metrics import accuracy_score, confusion_matrix\n",
    "from sklearn.metrics import precision_score, recall_score, f1_score\n",
    "from sklearn.metrics import mean_squared_error, r2_score, silhouette_score\n",
    "from sklearn.preprocessing import MinMaxScaler, StandardScaler, LabelEncoder\n",
    "\n",
    "from sklearn.svm import LinearSVC\n",
    "from sklearn.neural_network import MLPClassifier\n",
    "from sklearn.linear_model import Perceptron, SGDClassifier\n",
    "from sklearn.decomposition import PCA\n",
    "from sklearn.cluster import KMeans\n",
    "from sklearn.naive_bayes import MultinomialNB, GaussianNB\n",
    "from sklearn.neighbors import KNeighborsClassifier\n",
    "from sklearn.tree import DecisionTreeClassifier\n",
    "# ---------------------------------------\n",
    "\n",
    "\n",
    "# ----------------- output and visualizations: \n",
    "import warnings\n",
    "from sklearn.exceptions import ConvergenceWarning\n",
    "warnings.simplefilter(\"ignore\")\n",
    "warnings.simplefilter(action='ignore', category=FutureWarning)\n",
    "warnings.simplefilter(\"ignore\", category=ConvergenceWarning)\n",
    "# show several prints in one cell. This will allow us to condence every trick in one cell.\n",
    "from IPython.core.interactiveshell import InteractiveShell\n",
    "InteractiveShell.ast_node_interactivity = \"all\"\n",
    "%matplotlib inline\n",
    "pd.pandas.set_option('display.max_columns', None)\n",
    "pd.set_option('display.float_format', lambda x: '%.3f' % x)\n",
    "# ---------------------------------------"
   ]
  },
  {
   "cell_type": "markdown",
   "metadata": {},
   "source": [
    "### Text analysis and String manipulation imports:"
   ]
  },
  {
   "cell_type": "code",
   "execution_count": 3,
   "metadata": {},
   "outputs": [],
   "source": [
    "# --------------------------------------\n",
    "# --------- Text analysis and Hebrew text analysis imports:\n",
    "# vectorizers:\n",
    "from sklearn.feature_extraction import text\n",
    "from sklearn.feature_extraction.text import CountVectorizer, TfidfVectorizer\n",
    "\n",
    "# regular expressions:\n",
    "import re\n",
    "# --------------------------------------"
   ]
  },
  {
   "cell_type": "markdown",
   "metadata": {},
   "source": [
    "### (optional) Hebrew text analysis - WordNet (for Hebrew)\n",
    "Note: the WordNet is not a must"
   ]
  },
  {
   "cell_type": "markdown",
   "metadata": {},
   "source": [
    "#### (optional) Only if you didn't install Wordnet (for Hebrew) use:"
   ]
  },
  {
   "cell_type": "code",
   "execution_count": 3,
   "metadata": {},
   "outputs": [],
   "source": [
    "# word net installation:\n",
    "\n",
    "# unmark if you want to use and need to install\n",
    "# %pip install wn\n",
    "# %python -m wn download omw-he:1.4"
   ]
  },
  {
   "cell_type": "code",
   "execution_count": 4,
   "metadata": {},
   "outputs": [],
   "source": [
    "# word net import:\n",
    "\n",
    "# unmark if you want to use:\n",
    "import wn"
   ]
  },
  {
   "cell_type": "markdown",
   "metadata": {},
   "source": [
    "### (optional) Hebrew text analysis - hebrew_tokenizer (Tokenizer for Hebrew)\n",
    "Note: the hebrew_tokenizer is not a must"
   ]
  },
  {
   "cell_type": "markdown",
   "metadata": {},
   "source": [
    "#### (optional) Only if you didn't install hebrew_tokenizer use:"
   ]
  },
  {
   "cell_type": "code",
   "execution_count": 5,
   "metadata": {},
   "outputs": [],
   "source": [
    "# Hebrew tokenizer installation:\n",
    "\n",
    "# unmark if you want to use and need to install:\n",
    "# %pip install hebrew_tokenizer"
   ]
  },
  {
   "cell_type": "code",
   "execution_count": 5,
   "metadata": {},
   "outputs": [
    {
     "name": "stdout",
     "output_type": "stream",
     "text": [
      "C:\\Users\\Herr Yulie\\Desktop\\HIT\\Text Analysis\n"
     ]
    }
   ],
   "source": [
    "# Hebrew tokenizer import:\n",
    "\n",
    "# unmark if you want to use:\n",
    "import hebrew_tokenizer as ht"
   ]
  },
  {
   "cell_type": "markdown",
   "metadata": {},
   "source": [
    "### Reading input files\n",
    "Reading input files for train annotated corpus (raw text data) corpus and for the test corpus"
   ]
  },
  {
   "cell_type": "code",
   "execution_count": 7,
   "metadata": {},
   "outputs": [],
   "source": [
    "train_filename = 'annotated_corpus_for_train.csv'\n",
    "test_filename  = 'corpus_for_test.csv'\n",
    "df_train = pd.read_csv(train_filename, index_col=None, encoding='utf-8').replace({'f':0,'m':1})\n",
    "df_test  = pd.read_csv(test_filename, index_col=None, encoding='utf-8').replace({'f':0,'m':1})"
   ]
  },
  {
   "cell_type": "code",
   "execution_count": 8,
   "metadata": {},
   "outputs": [
    {
     "data": {
      "text/html": [
       "<div>\n",
       "<style scoped>\n",
       "    .dataframe tbody tr th:only-of-type {\n",
       "        vertical-align: middle;\n",
       "    }\n",
       "\n",
       "    .dataframe tbody tr th {\n",
       "        vertical-align: top;\n",
       "    }\n",
       "\n",
       "    .dataframe thead th {\n",
       "        text-align: right;\n",
       "    }\n",
       "</style>\n",
       "<table border=\"1\" class=\"dataframe\">\n",
       "  <thead>\n",
       "    <tr style=\"text-align: right;\">\n",
       "      <th></th>\n",
       "      <th>story</th>\n",
       "      <th>gender</th>\n",
       "    </tr>\n",
       "  </thead>\n",
       "  <tbody>\n",
       "    <tr>\n",
       "      <th>0</th>\n",
       "      <td>כשחבר הזמין אותי לחול, לא באמת חשבתי שזה יקרה,...</td>\n",
       "      <td>1</td>\n",
       "    </tr>\n",
       "    <tr>\n",
       "      <th>1</th>\n",
       "      <td>לפני שהתגייסתי לצבא עשיתי כל מני מיונים ליחידו...</td>\n",
       "      <td>1</td>\n",
       "    </tr>\n",
       "    <tr>\n",
       "      <th>2</th>\n",
       "      <td>מאז שהתחילו הלימודים חלומו של כל סטודנט זה הפנ...</td>\n",
       "      <td>0</td>\n",
       "    </tr>\n",
       "    <tr>\n",
       "      <th>3</th>\n",
       "      <td>כשהייתי ילד, מטוסים היה הדבר שהכי ריתק אותי. ב...</td>\n",
       "      <td>1</td>\n",
       "    </tr>\n",
       "    <tr>\n",
       "      <th>4</th>\n",
       "      <td>‏הייתי מדריכה בכפר נוער ומתאם הכפר היינו צריכי...</td>\n",
       "      <td>0</td>\n",
       "    </tr>\n",
       "    <tr>\n",
       "      <th>5</th>\n",
       "      <td>לפני כ3 חודשים טסתי לרומא למשך שבוע. טסתי במטו...</td>\n",
       "      <td>0</td>\n",
       "    </tr>\n",
       "    <tr>\n",
       "      <th>6</th>\n",
       "      <td>אני כבר שנתיים נשוי והשנה אני ואישתי סוף סוף י...</td>\n",
       "      <td>1</td>\n",
       "    </tr>\n",
       "    <tr>\n",
       "      <th>7</th>\n",
       "      <td>השנה התחלנו שיפוץ בדירה שלנו בתל אביב. הדירה ה...</td>\n",
       "      <td>0</td>\n",
       "    </tr>\n",
       "  </tbody>\n",
       "</table>\n",
       "</div>"
      ],
      "text/plain": [
       "                                               story  gender\n",
       "0  כשחבר הזמין אותי לחול, לא באמת חשבתי שזה יקרה,...       1\n",
       "1  לפני שהתגייסתי לצבא עשיתי כל מני מיונים ליחידו...       1\n",
       "2  מאז שהתחילו הלימודים חלומו של כל סטודנט זה הפנ...       0\n",
       "3  כשהייתי ילד, מטוסים היה הדבר שהכי ריתק אותי. ב...       1\n",
       "4  ‏הייתי מדריכה בכפר נוער ומתאם הכפר היינו צריכי...       0\n",
       "5  לפני כ3 חודשים טסתי לרומא למשך שבוע. טסתי במטו...       0\n",
       "6  אני כבר שנתיים נשוי והשנה אני ואישתי סוף סוף י...       1\n",
       "7  השנה התחלנו שיפוץ בדירה שלנו בתל אביב. הדירה ה...       0"
      ]
     },
     "execution_count": 8,
     "metadata": {},
     "output_type": "execute_result"
    },
    {
     "data": {
      "text/plain": [
       "(753, 2)"
      ]
     },
     "execution_count": 8,
     "metadata": {},
     "output_type": "execute_result"
    }
   ],
   "source": [
    "df_train.head(8)\n",
    "df_train.shape"
   ]
  },
  {
   "cell_type": "code",
   "execution_count": 9,
   "metadata": {},
   "outputs": [
    {
     "data": {
      "text/html": [
       "<div>\n",
       "<style scoped>\n",
       "    .dataframe tbody tr th:only-of-type {\n",
       "        vertical-align: middle;\n",
       "    }\n",
       "\n",
       "    .dataframe tbody tr th {\n",
       "        vertical-align: top;\n",
       "    }\n",
       "\n",
       "    .dataframe thead th {\n",
       "        text-align: right;\n",
       "    }\n",
       "</style>\n",
       "<table border=\"1\" class=\"dataframe\">\n",
       "  <thead>\n",
       "    <tr style=\"text-align: right;\">\n",
       "      <th></th>\n",
       "      <th>test_example_id</th>\n",
       "      <th>story</th>\n",
       "    </tr>\n",
       "  </thead>\n",
       "  <tbody>\n",
       "    <tr>\n",
       "      <th>0</th>\n",
       "      <td>0</td>\n",
       "      <td>כל קיץ אני והמשפחה נוסעים לארצות הברית לוס אנג...</td>\n",
       "    </tr>\n",
       "    <tr>\n",
       "      <th>1</th>\n",
       "      <td>1</td>\n",
       "      <td>הגעתי לשירות המדינה אחרי שנתיים כפעיל בתנועת \"...</td>\n",
       "    </tr>\n",
       "    <tr>\n",
       "      <th>2</th>\n",
       "      <td>2</td>\n",
       "      <td>אחת האהבות הגדולות שלי אלו הכלבים שלי ושל אישת...</td>\n",
       "    </tr>\n",
       "  </tbody>\n",
       "</table>\n",
       "</div>"
      ],
      "text/plain": [
       "   test_example_id                                              story\n",
       "0                0  כל קיץ אני והמשפחה נוסעים לארצות הברית לוס אנג...\n",
       "1                1  הגעתי לשירות המדינה אחרי שנתיים כפעיל בתנועת \"...\n",
       "2                2  אחת האהבות הגדולות שלי אלו הכלבים שלי ושל אישת..."
      ]
     },
     "execution_count": 9,
     "metadata": {},
     "output_type": "execute_result"
    },
    {
     "data": {
      "text/plain": [
       "(323, 2)"
      ]
     },
     "execution_count": 9,
     "metadata": {},
     "output_type": "execute_result"
    }
   ],
   "source": [
    "df_test.head(3)\n",
    "df_test.shape"
   ]
  },
  {
   "cell_type": "markdown",
   "metadata": {},
   "source": [
    "### Your implementation:\n",
    "Write your code solution in the following code-cells"
   ]
  },
  {
   "cell_type": "markdown",
   "metadata": {},
   "source": [
    "<b>In order to tokenize the stories we first have to get rid of the redundant words, words that are shorter than 2 characters and also words that contain characters that aren't Hebrew</b>"
   ]
  },
  {
   "cell_type": "code",
   "execution_count": 10,
   "metadata": {},
   "outputs": [],
   "source": [
    "def removeRedundantTokens(tokens):\n",
    "    res=[]\n",
    "    for token in tokens:\n",
    "        valid=True\n",
    "        if len(token)<2:\n",
    "            continue\n",
    "        for ch in token:\n",
    "            if (ord(ch) < ord(\"א\") or ord(ch) > ord(\"ת\")):\n",
    "                valid=False\n",
    "                break\n",
    "        if valid:\n",
    "            res.append(token)\n",
    "    return res"
   ]
  },
  {
   "cell_type": "markdown",
   "metadata": {},
   "source": [
    "<b>Now we can start processing the stories and split them into individual words</b>"
   ]
  },
  {
   "cell_type": "code",
   "execution_count": 11,
   "metadata": {},
   "outputs": [],
   "source": [
    "def processingData(df, column):\n",
    "    res=[]\n",
    "    for text in df[column]:\n",
    "        tokens=[]\n",
    "        tokensPerText=ht.tokenize(text)\n",
    "        for t in tokensPerText:\n",
    "            tokens.append(t[1])\n",
    "        cleanTokens=removeRedundantTokens(tokens)\n",
    "        res.append(cleanTokens)\n",
    "    newDf=df.copy()\n",
    "    newDf[\"tokens\"]=res\n",
    "    return newDf"
   ]
  },
  {
   "cell_type": "code",
   "execution_count": 12,
   "metadata": {},
   "outputs": [],
   "source": [
    "processed_df=processingData(df_train,\"story\")\n",
    "processed_test=processingData(df_test,\"story\")"
   ]
  },
  {
   "cell_type": "code",
   "execution_count": 13,
   "metadata": {},
   "outputs": [],
   "source": [
    "scores=[]\n",
    "estimators=[]\n",
    "params=[]\n",
    "clfs=[]\n",
    "vecs=[]\n",
    "cvs=[]"
   ]
  },
  {
   "cell_type": "markdown",
   "metadata": {},
   "source": [
    "<b>Now we are finally done with processing our data and we can move on to the machine learning part.</br>\n",
    "We first define a Pipeline object with a vectorizer and a classifier. Then we pass that same Pipeline object into a GridSearch function with a list of different hyperparameters and from that we can determine the best hyperparameters for the vectorizer and classifier pair.</b>"
   ]
  },
  {
   "cell_type": "markdown",
   "metadata": {},
   "source": [
    "<b>Count Vectorizer + Logistic Regression (cv=5)"
   ]
  },
  {
   "cell_type": "code",
   "execution_count": 14,
   "metadata": {},
   "outputs": [
    {
     "data": {
      "text/plain": [
       "GridSearchCV(cv=5,\n",
       "             estimator=Pipeline(steps=[('countVectorizer', CountVectorizer()),\n",
       "                                       ('log_reg_clf', LogisticRegression())]),\n",
       "             param_grid={'countVectorizer__ngram_range': [(1, 1), (1, 2),\n",
       "                                                          (1, 3)]},\n",
       "             scoring=make_scorer(f1_score, average=macro))"
      ]
     },
     "execution_count": 14,
     "metadata": {},
     "output_type": "execute_result"
    },
    {
     "name": "stdout",
     "output_type": "stream",
     "text": [
      "Best F1 Score: 0.6620282085176806\n",
      "\n",
      "Best Estimator:  Pipeline(steps=[('countVectorizer', CountVectorizer()),\n",
      "                ('log_reg_clf', LogisticRegression())])\n",
      "\n",
      "Best Parameters:  {'countVectorizer__ngram_range': (1, 1)}\n"
     ]
    }
   ],
   "source": [
    "cv_logReg_pipe = Pipeline([('countVectorizer', CountVectorizer()), ('log_reg_clf', linear_model.LogisticRegression())])\n",
    "grid_params={'countVectorizer__ngram_range':[(1,1),(1,2),(1,3)]}\n",
    "cv_logReg_search=GridSearchCV(cv_logReg_pipe, grid_params, cv=5, scoring=metrics.make_scorer(metrics.f1_score, average='macro'))\n",
    "cv_logReg_search.fit(processed_df[\"story\"], processed_df[\"gender\"])\n",
    "print(\"Best F1 Score:\", cv_logReg_search.best_score_)\n",
    "print(\"\\nBest Estimator: \", cv_logReg_search.best_estimator_)\n",
    "print(\"\\nBest Parameters: \", cv_logReg_search.best_params_)\n",
    "clfs.append(\"Logistic Regression\")\n",
    "vecs.append(\"Count Vectorizer\")\n",
    "cvs.append(5)\n",
    "scores.append(cv_logReg_search.best_score_)\n",
    "estimators.append(cv_logReg_search.best_estimator_)\n",
    "params.append(cv_logReg_search.best_params_)"
   ]
  },
  {
   "cell_type": "markdown",
   "metadata": {},
   "source": [
    "<b>Count Vectorizer + Logistic Regression (cv=12)"
   ]
  },
  {
   "cell_type": "code",
   "execution_count": 15,
   "metadata": {},
   "outputs": [
    {
     "data": {
      "text/plain": [
       "GridSearchCV(cv=12,\n",
       "             estimator=Pipeline(steps=[('countVectorizer', CountVectorizer()),\n",
       "                                       ('log_reg_clf', LogisticRegression())]),\n",
       "             param_grid={'countVectorizer__ngram_range': [(1, 1), (1, 2),\n",
       "                                                          (1, 3)]},\n",
       "             scoring=make_scorer(f1_score, average=macro))"
      ]
     },
     "execution_count": 15,
     "metadata": {},
     "output_type": "execute_result"
    },
    {
     "name": "stdout",
     "output_type": "stream",
     "text": [
      "Best F1 Score: 0.6466996634386426\n",
      "\n",
      "Best Estimator:  Pipeline(steps=[('countVectorizer', CountVectorizer()),\n",
      "                ('log_reg_clf', LogisticRegression())])\n",
      "\n",
      "Best Parameters:  {'countVectorizer__ngram_range': (1, 1)}\n"
     ]
    }
   ],
   "source": [
    "cv_logReg_pipe = Pipeline([('countVectorizer', CountVectorizer()), ('log_reg_clf', linear_model.LogisticRegression())])\n",
    "grid_params={'countVectorizer__ngram_range':[(1,1),(1,2),(1,3)]}\n",
    "cv_logReg_search=GridSearchCV(cv_logReg_pipe, grid_params, cv=12, scoring=metrics.make_scorer(metrics.f1_score, average='macro'))\n",
    "cv_logReg_search.fit(processed_df[\"story\"], processed_df[\"gender\"])\n",
    "print(\"Best F1 Score:\", cv_logReg_search.best_score_)\n",
    "print(\"\\nBest Estimator: \", cv_logReg_search.best_estimator_)\n",
    "print(\"\\nBest Parameters: \", cv_logReg_search.best_params_)\n",
    "clfs.append(\"Logistic Regression\")\n",
    "vecs.append(\"Count Vectorizer\")\n",
    "cvs.append(12)\n",
    "scores.append(cv_logReg_search.best_score_)\n",
    "estimators.append(cv_logReg_search.best_estimator_)\n",
    "params.append(cv_logReg_search.best_params_)"
   ]
  },
  {
   "cell_type": "markdown",
   "metadata": {},
   "source": [
    "<b>Tfidf Vectorizer + Logistic Regression (cv=5)"
   ]
  },
  {
   "cell_type": "code",
   "execution_count": 16,
   "metadata": {},
   "outputs": [
    {
     "data": {
      "text/plain": [
       "GridSearchCV(cv=5,\n",
       "             estimator=Pipeline(steps=[('tfidfVectorizer', TfidfVectorizer()),\n",
       "                                       ('log_reg_clf', LogisticRegression())]),\n",
       "             param_grid={'tfidfVectorizer__ngram_range': [(1, 1), (1, 2),\n",
       "                                                          (1, 3)]},\n",
       "             scoring=make_scorer(f1_score, average=macro))"
      ]
     },
     "execution_count": 16,
     "metadata": {},
     "output_type": "execute_result"
    },
    {
     "name": "stdout",
     "output_type": "stream",
     "text": [
      "Best F1 Score: 0.43298340190097884\n",
      "\n",
      "Best Estimator:  Pipeline(steps=[('tfidfVectorizer', TfidfVectorizer()),\n",
      "                ('log_reg_clf', LogisticRegression())])\n",
      "\n",
      "Best Parameters:  {'tfidfVectorizer__ngram_range': (1, 1)}\n"
     ]
    }
   ],
   "source": [
    "tfidf_logReg_pipe = Pipeline([('tfidfVectorizer', TfidfVectorizer()), ('log_reg_clf', linear_model.LogisticRegression())])\n",
    "grid_params={'tfidfVectorizer__ngram_range':[(1,1),(1,2),(1,3)]}\n",
    "tfidf_logReg_search=GridSearchCV(tfidf_logReg_pipe, grid_params, cv=5, scoring=metrics.make_scorer(metrics.f1_score, average='macro'))\n",
    "tfidf_logReg_search.fit(processed_df[\"story\"], processed_df[\"gender\"])\n",
    "print(\"Best F1 Score:\", tfidf_logReg_search.best_score_)\n",
    "print(\"\\nBest Estimator: \", tfidf_logReg_search.best_estimator_)\n",
    "print(\"\\nBest Parameters: \", tfidf_logReg_search.best_params_)\n",
    "clfs.append(\"Logistic Regression\")\n",
    "vecs.append(\"Tfidf Vectorizer\")\n",
    "cvs.append(5)\n",
    "scores.append(tfidf_logReg_search.best_score_)\n",
    "estimators.append(tfidf_logReg_search.best_estimator_)\n",
    "params.append(tfidf_logReg_search.best_params_)"
   ]
  },
  {
   "cell_type": "markdown",
   "metadata": {},
   "source": [
    "<b>Tfidf Vectorizer + Logistic Regression (cv=12)"
   ]
  },
  {
   "cell_type": "code",
   "execution_count": 17,
   "metadata": {},
   "outputs": [
    {
     "data": {
      "text/plain": [
       "GridSearchCV(cv=12,\n",
       "             estimator=Pipeline(steps=[('tfidfVectorizer', TfidfVectorizer()),\n",
       "                                       ('log_reg_clf', LogisticRegression())]),\n",
       "             param_grid={'tfidfVectorizer__ngram_range': [(1, 1), (1, 2),\n",
       "                                                          (1, 3)]},\n",
       "             scoring=make_scorer(f1_score, average=macro))"
      ]
     },
     "execution_count": 17,
     "metadata": {},
     "output_type": "execute_result"
    },
    {
     "name": "stdout",
     "output_type": "stream",
     "text": [
      "Best F1 Score: 0.4329843187641353\n",
      "\n",
      "Best Estimator:  Pipeline(steps=[('tfidfVectorizer', TfidfVectorizer()),\n",
      "                ('log_reg_clf', LogisticRegression())])\n",
      "\n",
      "Best Parameters:  {'tfidfVectorizer__ngram_range': (1, 1)}\n"
     ]
    }
   ],
   "source": [
    "tfidf_logReg_pipe = Pipeline([('tfidfVectorizer', TfidfVectorizer()), ('log_reg_clf', linear_model.LogisticRegression())])\n",
    "grid_params={'tfidfVectorizer__ngram_range':[(1,1),(1,2),(1,3)]}\n",
    "tfidf_logReg_search=GridSearchCV(tfidf_logReg_pipe, grid_params, cv=12, scoring=metrics.make_scorer(metrics.f1_score, average='macro'))\n",
    "tfidf_logReg_search.fit(processed_df[\"story\"], processed_df[\"gender\"])\n",
    "print(\"Best F1 Score:\", tfidf_logReg_search.best_score_)\n",
    "print(\"\\nBest Estimator: \", tfidf_logReg_search.best_estimator_)\n",
    "print(\"\\nBest Parameters: \", tfidf_logReg_search.best_params_)\n",
    "clfs.append(\"Logistic Regression\")\n",
    "vecs.append(\"Tfidf Vectorizer\")\n",
    "cvs.append(12)\n",
    "scores.append(tfidf_logReg_search.best_score_)\n",
    "estimators.append(tfidf_logReg_search.best_estimator_)\n",
    "params.append(tfidf_logReg_search.best_params_)"
   ]
  },
  {
   "cell_type": "markdown",
   "metadata": {},
   "source": [
    "<b>Count Vectorizer + KNN (cv=5)"
   ]
  },
  {
   "cell_type": "code",
   "execution_count": 18,
   "metadata": {},
   "outputs": [
    {
     "data": {
      "text/plain": [
       "GridSearchCV(cv=5,\n",
       "             estimator=Pipeline(steps=[('countVectorizer', CountVectorizer()),\n",
       "                                       ('knn_clf', KNeighborsClassifier())]),\n",
       "             param_grid={'countVectorizer__ngram_range': [(1, 1), (1, 2),\n",
       "                                                          (1, 3)],\n",
       "                         'knn_clf__n_neighbors': [3, 5, 7]},\n",
       "             scoring=make_scorer(f1_score, average=macro))"
      ]
     },
     "execution_count": 18,
     "metadata": {},
     "output_type": "execute_result"
    },
    {
     "name": "stdout",
     "output_type": "stream",
     "text": [
      "Best F1 Score: 0.5383986409181778\n",
      "\n",
      "Best Estimator:  Pipeline(steps=[('countVectorizer', CountVectorizer()),\n",
      "                ('knn_clf', KNeighborsClassifier(n_neighbors=3))])\n",
      "\n",
      "Best Parameters:  {'countVectorizer__ngram_range': (1, 1), 'knn_clf__n_neighbors': 3}\n"
     ]
    }
   ],
   "source": [
    "cv_knn_pipe = Pipeline([('countVectorizer', CountVectorizer()), ('knn_clf', KNeighborsClassifier())])\n",
    "grid_params={'knn_clf__n_neighbors':[3,5,7], \n",
    "             'countVectorizer__ngram_range':[(1,1),(1,2),(1,3)]}\n",
    "cv_knn_search=GridSearchCV(cv_knn_pipe,grid_params, cv=5, scoring=metrics.make_scorer(metrics.f1_score, average='macro'))\n",
    "cv_knn_search.fit(processed_df[\"story\"], processed_df[\"gender\"])\n",
    "print(\"Best F1 Score:\", cv_knn_search.best_score_)\n",
    "print(\"\\nBest Estimator: \", cv_knn_search.best_estimator_)\n",
    "print(\"\\nBest Parameters: \", cv_knn_search.best_params_)\n",
    "clfs.append(\"KNN\")\n",
    "vecs.append(\"Count Vectorizer\")\n",
    "cvs.append(5)\n",
    "scores.append(cv_knn_search.best_score_)\n",
    "estimators.append(cv_knn_search.best_estimator_)\n",
    "params.append(cv_knn_search.best_params_)"
   ]
  },
  {
   "cell_type": "markdown",
   "metadata": {},
   "source": [
    "<b>Count Vectorizer + KNN (cv=12)"
   ]
  },
  {
   "cell_type": "code",
   "execution_count": 19,
   "metadata": {},
   "outputs": [
    {
     "data": {
      "text/plain": [
       "GridSearchCV(cv=12,\n",
       "             estimator=Pipeline(steps=[('countVectorizer', CountVectorizer()),\n",
       "                                       ('knn_clf', KNeighborsClassifier())]),\n",
       "             param_grid={'countVectorizer__ngram_range': [(1, 1), (1, 2),\n",
       "                                                          (1, 3)],\n",
       "                         'knn_clf__n_neighbors': [3, 5, 7]},\n",
       "             scoring=make_scorer(f1_score, average=macro))"
      ]
     },
     "execution_count": 19,
     "metadata": {},
     "output_type": "execute_result"
    },
    {
     "name": "stdout",
     "output_type": "stream",
     "text": [
      "Best F1 Score: 0.5241347774134925\n",
      "\n",
      "Best Estimator:  Pipeline(steps=[('countVectorizer', CountVectorizer()),\n",
      "                ('knn_clf', KNeighborsClassifier(n_neighbors=3))])\n",
      "\n",
      "Best Parameters:  {'countVectorizer__ngram_range': (1, 1), 'knn_clf__n_neighbors': 3}\n"
     ]
    }
   ],
   "source": [
    "cv_knn_pipe = Pipeline([('countVectorizer', CountVectorizer()), ('knn_clf', KNeighborsClassifier())])\n",
    "grid_params={'knn_clf__n_neighbors':[3,5,7], \n",
    "             'countVectorizer__ngram_range':[(1,1),(1,2),(1,3)]}\n",
    "cv_knn_search=GridSearchCV(cv_knn_pipe,grid_params, cv=12, scoring=metrics.make_scorer(metrics.f1_score, average='macro'))\n",
    "cv_knn_search.fit(processed_df[\"story\"], processed_df[\"gender\"])\n",
    "print(\"Best F1 Score:\", cv_knn_search.best_score_)\n",
    "print(\"\\nBest Estimator: \", cv_knn_search.best_estimator_)\n",
    "print(\"\\nBest Parameters: \", cv_knn_search.best_params_)\n",
    "clfs.append(\"KNN\")\n",
    "vecs.append(\"Count Vectorizer\")\n",
    "cvs.append(12)\n",
    "scores.append(cv_knn_search.best_score_)\n",
    "estimators.append(cv_knn_search.best_estimator_)\n",
    "params.append(cv_knn_search.best_params_)"
   ]
  },
  {
   "cell_type": "markdown",
   "metadata": {},
   "source": [
    "<b>Tfidf Vectorizer + KNN (cv=5)"
   ]
  },
  {
   "cell_type": "code",
   "execution_count": 20,
   "metadata": {},
   "outputs": [
    {
     "data": {
      "text/plain": [
       "GridSearchCV(cv=5,\n",
       "             estimator=Pipeline(steps=[('tfidfVectorizer', TfidfVectorizer()),\n",
       "                                       ('knn_clf', KNeighborsClassifier())]),\n",
       "             param_grid={'knn_clf__n_neighbors': [3, 5, 7],\n",
       "                         'tfidfVectorizer__ngram_range': [(1, 1), (1, 2),\n",
       "                                                          (1, 3)]},\n",
       "             scoring=make_scorer(f1_score, average=macro))"
      ]
     },
     "execution_count": 20,
     "metadata": {},
     "output_type": "execute_result"
    },
    {
     "name": "stdout",
     "output_type": "stream",
     "text": [
      "Best F1 Score: 0.6243469187901602\n",
      "\n",
      "Best Estimator:  Pipeline(steps=[('tfidfVectorizer', TfidfVectorizer(ngram_range=(1, 3))),\n",
      "                ('knn_clf', KNeighborsClassifier())])\n",
      "\n",
      "Best Parameters:  {'knn_clf__n_neighbors': 5, 'tfidfVectorizer__ngram_range': (1, 3)}\n"
     ]
    }
   ],
   "source": [
    "tfidf_knn_pipe = Pipeline([('tfidfVectorizer', TfidfVectorizer()), ('knn_clf', KNeighborsClassifier())])\n",
    "grid_params={'knn_clf__n_neighbors':[3,5,7], 'tfidfVectorizer__ngram_range':[(1,1),(1,2),(1,3)]}\n",
    "tfidf_knn_search=GridSearchCV(tfidf_knn_pipe,grid_params, cv=5, scoring=metrics.make_scorer(metrics.f1_score, average='macro'))\n",
    "tfidf_knn_search.fit(processed_df[\"story\"], processed_df[\"gender\"])\n",
    "print(\"Best F1 Score:\", tfidf_knn_search.best_score_)\n",
    "print(\"\\nBest Estimator: \", tfidf_knn_search.best_estimator_)\n",
    "print(\"\\nBest Parameters: \", tfidf_knn_search.best_params_)\n",
    "clfs.append(\"KNN\")\n",
    "vecs.append(\"Tfidf Vectorizer\")\n",
    "cvs.append(5)\n",
    "scores.append(tfidf_knn_search.best_score_)\n",
    "estimators.append(tfidf_knn_search.best_estimator_)\n",
    "params.append(tfidf_knn_search.best_params_)"
   ]
  },
  {
   "cell_type": "markdown",
   "metadata": {},
   "source": [
    "<b>Tfidf Vectorizer + KNN (cv=12)"
   ]
  },
  {
   "cell_type": "code",
   "execution_count": 21,
   "metadata": {},
   "outputs": [
    {
     "data": {
      "text/plain": [
       "GridSearchCV(cv=12,\n",
       "             estimator=Pipeline(steps=[('tfidfVectorizer', TfidfVectorizer()),\n",
       "                                       ('knn_clf', KNeighborsClassifier())]),\n",
       "             param_grid={'knn_clf__n_neighbors': [3, 5, 7],\n",
       "                         'tfidfVectorizer__ngram_range': [(1, 1), (1, 2),\n",
       "                                                          (1, 3)]},\n",
       "             scoring=make_scorer(f1_score, average=macro))"
      ]
     },
     "execution_count": 21,
     "metadata": {},
     "output_type": "execute_result"
    },
    {
     "name": "stdout",
     "output_type": "stream",
     "text": [
      "Best F1 Score: 0.6409322900973061\n",
      "\n",
      "Best Estimator:  Pipeline(steps=[('tfidfVectorizer', TfidfVectorizer(ngram_range=(1, 2))),\n",
      "                ('knn_clf', KNeighborsClassifier())])\n",
      "\n",
      "Best Parameters:  {'knn_clf__n_neighbors': 5, 'tfidfVectorizer__ngram_range': (1, 2)}\n"
     ]
    }
   ],
   "source": [
    "tfidf_knn_pipe = Pipeline([('tfidfVectorizer', TfidfVectorizer()), ('knn_clf', KNeighborsClassifier())])\n",
    "grid_params={'knn_clf__n_neighbors':[3,5,7], 'tfidfVectorizer__ngram_range':[(1,1),(1,2),(1,3)]}\n",
    "tfidf_knn_search=GridSearchCV(tfidf_knn_pipe,grid_params, cv=12, scoring=metrics.make_scorer(metrics.f1_score, average='macro'))\n",
    "tfidf_knn_search.fit(processed_df[\"story\"], processed_df[\"gender\"])\n",
    "print(\"Best F1 Score:\", tfidf_knn_search.best_score_)\n",
    "print(\"\\nBest Estimator: \", tfidf_knn_search.best_estimator_)\n",
    "print(\"\\nBest Parameters: \", tfidf_knn_search.best_params_)\n",
    "clfs.append(\"KNN\")\n",
    "vecs.append(\"Tfidf Vectorizer\")\n",
    "cvs.append(12)\n",
    "scores.append(tfidf_knn_search.best_score_)\n",
    "estimators.append(tfidf_knn_search.best_estimator_)\n",
    "params.append(tfidf_knn_search.best_params_)"
   ]
  },
  {
   "cell_type": "markdown",
   "metadata": {},
   "source": [
    "<b>Count Vectorizer + Decision Tree (cv=5)"
   ]
  },
  {
   "cell_type": "code",
   "execution_count": 22,
   "metadata": {},
   "outputs": [
    {
     "data": {
      "text/plain": [
       "GridSearchCV(cv=5,\n",
       "             estimator=Pipeline(steps=[('countVectorizer', CountVectorizer()),\n",
       "                                       ('dt_clf', DecisionTreeClassifier())]),\n",
       "             param_grid={'countVectorizer__ngram_range': [(1, 1), (1, 2),\n",
       "                                                          (1, 3)],\n",
       "                         'dt_clf__criterion': ['gini', 'entropy'],\n",
       "                         'dt_clf__max_depth': [3, 5, 7]},\n",
       "             scoring=make_scorer(f1_score, average=macro))"
      ]
     },
     "execution_count": 22,
     "metadata": {},
     "output_type": "execute_result"
    },
    {
     "name": "stdout",
     "output_type": "stream",
     "text": [
      "Best F1 Score: 0.5503319161890481\n",
      "\n",
      "Best Estimator:  Pipeline(steps=[('countVectorizer', CountVectorizer(ngram_range=(1, 2))),\n",
      "                ('dt_clf', DecisionTreeClassifier(max_depth=7))])\n",
      "\n",
      "Best Parameters:  {'countVectorizer__ngram_range': (1, 2), 'dt_clf__criterion': 'gini', 'dt_clf__max_depth': 7}\n"
     ]
    }
   ],
   "source": [
    "cv_dt_pipe = Pipeline([('countVectorizer', CountVectorizer()), ('dt_clf', DecisionTreeClassifier())])\n",
    "grid_params={'dt_clf__max_depth': [3, 5, 7], 'dt_clf__criterion': ['gini', 'entropy'], 'countVectorizer__ngram_range':[(1,1),(1,2),(1,3)]}\n",
    "cv_dt_search=GridSearchCV(cv_dt_pipe,grid_params, cv=5, scoring=metrics.make_scorer(metrics.f1_score, average='macro'))\n",
    "cv_dt_search.fit(processed_df[\"story\"], processed_df[\"gender\"])\n",
    "print(\"Best F1 Score:\", cv_dt_search.best_score_)\n",
    "print(\"\\nBest Estimator: \", cv_dt_search.best_estimator_)\n",
    "print(\"\\nBest Parameters: \", cv_dt_search.best_params_)\n",
    "clfs.append(\"Decision Tree\")\n",
    "vecs.append(\"Count Vectorizer\")\n",
    "cvs.append(5)\n",
    "scores.append(cv_dt_search.best_score_)\n",
    "estimators.append(cv_dt_search.best_estimator_)\n",
    "params.append(cv_dt_search.best_params_)"
   ]
  },
  {
   "cell_type": "markdown",
   "metadata": {},
   "source": [
    "<b>Count Vectorizer + Decision Tree (cv=12)"
   ]
  },
  {
   "cell_type": "code",
   "execution_count": 23,
   "metadata": {},
   "outputs": [
    {
     "data": {
      "text/plain": [
       "GridSearchCV(cv=12,\n",
       "             estimator=Pipeline(steps=[('countVectorizer', CountVectorizer()),\n",
       "                                       ('dt_clf', DecisionTreeClassifier())]),\n",
       "             param_grid={'countVectorizer__ngram_range': [(1, 1), (1, 2),\n",
       "                                                          (1, 3)],\n",
       "                         'dt_clf__criterion': ['gini', 'entropy'],\n",
       "                         'dt_clf__max_depth': [3, 5, 7]},\n",
       "             scoring=make_scorer(f1_score, average=macro))"
      ]
     },
     "execution_count": 23,
     "metadata": {},
     "output_type": "execute_result"
    },
    {
     "name": "stdout",
     "output_type": "stream",
     "text": [
      "Best F1 Score: 0.5750501412439768\n",
      "\n",
      "Best Estimator:  Pipeline(steps=[('countVectorizer', CountVectorizer()),\n",
      "                ('dt_clf', DecisionTreeClassifier(max_depth=7))])\n",
      "\n",
      "Best Parameters:  {'countVectorizer__ngram_range': (1, 1), 'dt_clf__criterion': 'gini', 'dt_clf__max_depth': 7}\n"
     ]
    }
   ],
   "source": [
    "cv_dt_pipe = Pipeline([('countVectorizer', CountVectorizer()), ('dt_clf', DecisionTreeClassifier())])\n",
    "grid_params={'dt_clf__max_depth': [3, 5, 7], 'dt_clf__criterion': ['gini', 'entropy'], 'countVectorizer__ngram_range':[(1,1),(1,2),(1,3)]}\n",
    "cv_dt_search=GridSearchCV(cv_dt_pipe,grid_params, cv=12, scoring=metrics.make_scorer(metrics.f1_score, average='macro'))\n",
    "cv_dt_search.fit(processed_df[\"story\"], processed_df[\"gender\"])\n",
    "print(\"Best F1 Score:\", cv_dt_search.best_score_)\n",
    "print(\"\\nBest Estimator: \", cv_dt_search.best_estimator_)\n",
    "print(\"\\nBest Parameters: \", cv_dt_search.best_params_)\n",
    "clfs.append(\"Decision Tree\")\n",
    "vecs.append(\"Count Vectorizer\")\n",
    "cvs.append(12)\n",
    "scores.append(cv_dt_search.best_score_)\n",
    "estimators.append(cv_dt_search.best_estimator_)\n",
    "params.append(cv_dt_search.best_params_)"
   ]
  },
  {
   "cell_type": "markdown",
   "metadata": {},
   "source": [
    "<b>Tfidf Vectorizer + Decision Tree (cv=5)"
   ]
  },
  {
   "cell_type": "code",
   "execution_count": 24,
   "metadata": {},
   "outputs": [
    {
     "data": {
      "text/plain": [
       "GridSearchCV(cv=5,\n",
       "             estimator=Pipeline(steps=[('tfidfVectorizer', TfidfVectorizer()),\n",
       "                                       ('dt_clf', DecisionTreeClassifier())]),\n",
       "             param_grid={'dt_clf__criterion': ['gini', 'entropy'],\n",
       "                         'dt_clf__max_depth': [3, 5, 7],\n",
       "                         'tfidfVectorizer__ngram_range': [(1, 1), (1, 2),\n",
       "                                                          (1, 3)]},\n",
       "             scoring=make_scorer(f1_score, average=macro))"
      ]
     },
     "execution_count": 24,
     "metadata": {},
     "output_type": "execute_result"
    },
    {
     "name": "stdout",
     "output_type": "stream",
     "text": [
      "Best F1 Score: 0.5870010824231441\n",
      "\n",
      "Best Estimator:  Pipeline(steps=[('tfidfVectorizer', TfidfVectorizer(ngram_range=(1, 2))),\n",
      "                ('dt_clf', DecisionTreeClassifier(max_depth=7))])\n",
      "\n",
      "Best Parameters:  {'dt_clf__criterion': 'gini', 'dt_clf__max_depth': 7, 'tfidfVectorizer__ngram_range': (1, 2)}\n"
     ]
    }
   ],
   "source": [
    "tfidf_dt_pipe = Pipeline([('tfidfVectorizer', TfidfVectorizer()), ('dt_clf', DecisionTreeClassifier())])\n",
    "grid_params={'dt_clf__max_depth': [3, 5, 7], 'dt_clf__criterion': ['gini', 'entropy'], 'tfidfVectorizer__ngram_range':[(1,1),(1,2),(1,3)]}\n",
    "tfidf_dt_search=GridSearchCV(tfidf_dt_pipe,grid_params, cv=5, scoring=metrics.make_scorer(metrics.f1_score, average='macro'))\n",
    "tfidf_dt_search.fit(processed_df[\"story\"], processed_df[\"gender\"])\n",
    "print(\"Best F1 Score:\", tfidf_dt_search.best_score_)\n",
    "print(\"\\nBest Estimator: \", tfidf_dt_search.best_estimator_)\n",
    "print(\"\\nBest Parameters: \", tfidf_dt_search.best_params_)\n",
    "clfs.append(\"Decision Tree\")\n",
    "vecs.append(\"Tfidf Vectorizer\")\n",
    "cvs.append(5)\n",
    "scores.append(tfidf_dt_search.best_score_)\n",
    "estimators.append(tfidf_dt_search.best_estimator_)\n",
    "params.append(tfidf_dt_search.best_params_)"
   ]
  },
  {
   "cell_type": "markdown",
   "metadata": {},
   "source": [
    "<b>Tfidf Vectorizer + Decision Tree (cv=12)"
   ]
  },
  {
   "cell_type": "code",
   "execution_count": 25,
   "metadata": {},
   "outputs": [
    {
     "data": {
      "text/plain": [
       "GridSearchCV(cv=12,\n",
       "             estimator=Pipeline(steps=[('tfidfVectorizer', TfidfVectorizer()),\n",
       "                                       ('dt_clf', DecisionTreeClassifier())]),\n",
       "             param_grid={'dt_clf__criterion': ['gini', 'entropy'],\n",
       "                         'dt_clf__max_depth': [3, 5, 7],\n",
       "                         'tfidfVectorizer__ngram_range': [(1, 1), (1, 2),\n",
       "                                                          (1, 3)]},\n",
       "             scoring=make_scorer(f1_score, average=macro))"
      ]
     },
     "execution_count": 25,
     "metadata": {},
     "output_type": "execute_result"
    },
    {
     "name": "stdout",
     "output_type": "stream",
     "text": [
      "Best F1 Score: 0.6008791536474979\n",
      "\n",
      "Best Estimator:  Pipeline(steps=[('tfidfVectorizer', TfidfVectorizer(ngram_range=(1, 3))),\n",
      "                ('dt_clf',\n",
      "                 DecisionTreeClassifier(criterion='entropy', max_depth=7))])\n",
      "\n",
      "Best Parameters:  {'dt_clf__criterion': 'entropy', 'dt_clf__max_depth': 7, 'tfidfVectorizer__ngram_range': (1, 3)}\n"
     ]
    }
   ],
   "source": [
    "tfidf_dt_pipe = Pipeline([('tfidfVectorizer', TfidfVectorizer()), ('dt_clf', DecisionTreeClassifier())])\n",
    "grid_params={'dt_clf__max_depth': [3, 5, 7], 'dt_clf__criterion': ['gini', 'entropy'], 'tfidfVectorizer__ngram_range':[(1,1),(1,2),(1,3)]}\n",
    "tfidf_dt_search=GridSearchCV(tfidf_dt_pipe,grid_params, cv=12, scoring=metrics.make_scorer(metrics.f1_score, average='macro'))\n",
    "tfidf_dt_search.fit(processed_df[\"story\"], processed_df[\"gender\"])\n",
    "print(\"Best F1 Score:\", tfidf_dt_search.best_score_)\n",
    "print(\"\\nBest Estimator: \", tfidf_dt_search.best_estimator_)\n",
    "print(\"\\nBest Parameters: \", tfidf_dt_search.best_params_)\n",
    "clfs.append(\"Decision Tree\")\n",
    "vecs.append(\"Tfidf Vectorizer\")\n",
    "cvs.append(12)\n",
    "scores.append(tfidf_dt_search.best_score_)\n",
    "estimators.append(tfidf_dt_search.best_estimator_)\n",
    "params.append(tfidf_dt_search.best_params_)"
   ]
  },
  {
   "cell_type": "markdown",
   "metadata": {},
   "source": [
    "<b>Count Vectorizer + Multinomial Naive Bayes (cv=5)"
   ]
  },
  {
   "cell_type": "code",
   "execution_count": 26,
   "metadata": {},
   "outputs": [
    {
     "data": {
      "text/plain": [
       "GridSearchCV(cv=5,\n",
       "             estimator=Pipeline(steps=[('countVectorizer', CountVectorizer()),\n",
       "                                       ('mnb_clf', MultinomialNB())]),\n",
       "             param_grid={'countVectorizer__ngram_range': [(1, 1), (1, 2),\n",
       "                                                          (1, 3)],\n",
       "                         'mnb_clf__alpha': [0.1, 0.5, 1, 10]},\n",
       "             scoring=make_scorer(f1_score, average=macro))"
      ]
     },
     "execution_count": 26,
     "metadata": {},
     "output_type": "execute_result"
    },
    {
     "name": "stdout",
     "output_type": "stream",
     "text": [
      "Best F1 Score: 0.5537407997214999\n",
      "\n",
      "Best Estimator:  Pipeline(steps=[('countVectorizer', CountVectorizer()),\n",
      "                ('mnb_clf', MultinomialNB(alpha=0.1))])\n",
      "\n",
      "Best Parameters:  {'countVectorizer__ngram_range': (1, 1), 'mnb_clf__alpha': 0.1}\n"
     ]
    }
   ],
   "source": [
    "cv_mnb_pipe = Pipeline([('countVectorizer', CountVectorizer()), ('mnb_clf', MultinomialNB())])\n",
    "grid_params={'mnb_clf__alpha': [0.1, 0.5, 1, 10], 'countVectorizer__ngram_range':[(1,1),(1,2),(1,3)]}\n",
    "cv_mnb_search=GridSearchCV(cv_mnb_pipe,grid_params, cv=5, scoring=metrics.make_scorer(metrics.f1_score, average='macro'))\n",
    "cv_mnb_search.fit(processed_df[\"story\"], processed_df[\"gender\"])\n",
    "print(\"Best F1 Score:\", cv_mnb_search.best_score_)\n",
    "print(\"\\nBest Estimator: \", cv_mnb_search.best_estimator_)\n",
    "print(\"\\nBest Parameters: \", cv_mnb_search.best_params_)\n",
    "clfs.append(\"Multinomial Naive Bayes\")\n",
    "vecs.append(\"Count Vectorizer\")\n",
    "cvs.append(5)\n",
    "scores.append(cv_mnb_search.best_score_)\n",
    "estimators.append(cv_mnb_search.best_estimator_)\n",
    "params.append(cv_mnb_search.best_params_)"
   ]
  },
  {
   "cell_type": "markdown",
   "metadata": {},
   "source": [
    "<b>Count Vectorizer + Multinomial Naive Bayes (cv=12)"
   ]
  },
  {
   "cell_type": "code",
   "execution_count": 27,
   "metadata": {},
   "outputs": [
    {
     "data": {
      "text/plain": [
       "GridSearchCV(cv=12,\n",
       "             estimator=Pipeline(steps=[('countVectorizer', CountVectorizer()),\n",
       "                                       ('mnb_clf', MultinomialNB())]),\n",
       "             param_grid={'countVectorizer__ngram_range': [(1, 1), (1, 2),\n",
       "                                                          (1, 3)],\n",
       "                         'mnb_clf__alpha': [0.1, 0.5, 1, 10]},\n",
       "             scoring=make_scorer(f1_score, average=macro))"
      ]
     },
     "execution_count": 27,
     "metadata": {},
     "output_type": "execute_result"
    },
    {
     "name": "stdout",
     "output_type": "stream",
     "text": [
      "Best F1 Score: 0.5612819825855629\n",
      "\n",
      "Best Estimator:  Pipeline(steps=[('countVectorizer', CountVectorizer()),\n",
      "                ('mnb_clf', MultinomialNB(alpha=0.1))])\n",
      "\n",
      "Best Parameters:  {'countVectorizer__ngram_range': (1, 1), 'mnb_clf__alpha': 0.1}\n"
     ]
    }
   ],
   "source": [
    "cv_mnb_pipe = Pipeline([('countVectorizer', CountVectorizer()), ('mnb_clf', MultinomialNB())])\n",
    "grid_params={'mnb_clf__alpha': [0.1, 0.5, 1, 10], 'countVectorizer__ngram_range':[(1,1),(1,2),(1,3)]}\n",
    "cv_mnb_search=GridSearchCV(cv_mnb_pipe,grid_params, cv=12, scoring=metrics.make_scorer(metrics.f1_score, average='macro'))\n",
    "cv_mnb_search.fit(processed_df[\"story\"], processed_df[\"gender\"])\n",
    "print(\"Best F1 Score:\", cv_mnb_search.best_score_)\n",
    "print(\"\\nBest Estimator: \", cv_mnb_search.best_estimator_)\n",
    "print(\"\\nBest Parameters: \", cv_mnb_search.best_params_)\n",
    "clfs.append(\"Multinomial Naive Bayes\")\n",
    "vecs.append(\"Count Vectorizer\")\n",
    "cvs.append(12)\n",
    "scores.append(cv_mnb_search.best_score_)\n",
    "estimators.append(cv_mnb_search.best_estimator_)\n",
    "params.append(cv_mnb_search.best_params_)"
   ]
  },
  {
   "cell_type": "markdown",
   "metadata": {},
   "source": [
    "<b>Tfidf Vectorizer + Multinomial Naive Bayes (cv=5)"
   ]
  },
  {
   "cell_type": "code",
   "execution_count": 28,
   "metadata": {},
   "outputs": [
    {
     "data": {
      "text/plain": [
       "GridSearchCV(cv=5,\n",
       "             estimator=Pipeline(steps=[('tfidfVectorizer', TfidfVectorizer()),\n",
       "                                       ('mnb_clf', MultinomialNB())]),\n",
       "             param_grid={'mnb_clf__alpha': [0.1, 0.5, 1, 10],\n",
       "                         'tfidfVectorizer__ngram_range': [(1, 1), (1, 2),\n",
       "                                                          (1, 3)]},\n",
       "             scoring=make_scorer(f1_score, average=macro))"
      ]
     },
     "execution_count": 28,
     "metadata": {},
     "output_type": "execute_result"
    },
    {
     "name": "stdout",
     "output_type": "stream",
     "text": [
      "Best F1 Score: 0.46581963280872446\n",
      "\n",
      "Best Estimator:  Pipeline(steps=[('tfidfVectorizer', TfidfVectorizer(ngram_range=(1, 2))),\n",
      "                ('mnb_clf', MultinomialNB(alpha=0.1))])\n",
      "\n",
      "Best Parameters:  {'mnb_clf__alpha': 0.1, 'tfidfVectorizer__ngram_range': (1, 2)}\n"
     ]
    }
   ],
   "source": [
    "tfidf_mnb_pipe = Pipeline([('tfidfVectorizer', TfidfVectorizer()), ('mnb_clf', MultinomialNB())])\n",
    "grid_params={'mnb_clf__alpha': [0.1, 0.5, 1, 10], 'tfidfVectorizer__ngram_range':[(1,1),(1,2),(1,3)]}\n",
    "tfidf_mnb_search=GridSearchCV(tfidf_mnb_pipe,grid_params, cv=5, scoring=metrics.make_scorer(metrics.f1_score, average='macro'))\n",
    "tfidf_mnb_search.fit(processed_df[\"story\"], processed_df[\"gender\"])\n",
    "print(\"Best F1 Score:\", tfidf_mnb_search.best_score_)\n",
    "print(\"\\nBest Estimator: \", tfidf_mnb_search.best_estimator_)\n",
    "print(\"\\nBest Parameters: \", tfidf_mnb_search.best_params_)\n",
    "clfs.append(\"Multinomial Naive Bayes\")\n",
    "vecs.append(\"Tfidf Vectorizer\")\n",
    "cvs.append(5)\n",
    "scores.append(tfidf_mnb_search.best_score_)\n",
    "estimators.append(tfidf_mnb_search.best_estimator_)\n",
    "params.append(tfidf_mnb_search.best_params_)"
   ]
  },
  {
   "cell_type": "markdown",
   "metadata": {},
   "source": [
    "<b>Tfidf Vectorizer + Multinomial Naive Bayes (cv=12)"
   ]
  },
  {
   "cell_type": "code",
   "execution_count": 29,
   "metadata": {},
   "outputs": [
    {
     "data": {
      "text/plain": [
       "GridSearchCV(cv=12,\n",
       "             estimator=Pipeline(steps=[('tfidfVectorizer', TfidfVectorizer()),\n",
       "                                       ('mnb_clf', MultinomialNB())]),\n",
       "             param_grid={'mnb_clf__alpha': [0.1, 0.5, 1, 10],\n",
       "                         'tfidfVectorizer__ngram_range': [(1, 1), (1, 2),\n",
       "                                                          (1, 3)]},\n",
       "             scoring=make_scorer(f1_score, average=macro))"
      ]
     },
     "execution_count": 29,
     "metadata": {},
     "output_type": "execute_result"
    },
    {
     "name": "stdout",
     "output_type": "stream",
     "text": [
      "Best F1 Score: 0.47471723617556955\n",
      "\n",
      "Best Estimator:  Pipeline(steps=[('tfidfVectorizer', TfidfVectorizer(ngram_range=(1, 2))),\n",
      "                ('mnb_clf', MultinomialNB(alpha=0.1))])\n",
      "\n",
      "Best Parameters:  {'mnb_clf__alpha': 0.1, 'tfidfVectorizer__ngram_range': (1, 2)}\n"
     ]
    }
   ],
   "source": [
    "tfidf_mnb_pipe = Pipeline([('tfidfVectorizer', TfidfVectorizer()), ('mnb_clf', MultinomialNB())])\n",
    "grid_params={'mnb_clf__alpha': [0.1, 0.5, 1, 10], 'tfidfVectorizer__ngram_range':[(1,1),(1,2),(1,3)]}\n",
    "tfidf_mnb_search=GridSearchCV(tfidf_mnb_pipe,grid_params, cv=12, scoring=metrics.make_scorer(metrics.f1_score, average='macro'))\n",
    "tfidf_mnb_search.fit(processed_df[\"story\"], processed_df[\"gender\"])\n",
    "print(\"Best F1 Score:\", tfidf_mnb_search.best_score_)\n",
    "print(\"\\nBest Estimator: \", tfidf_mnb_search.best_estimator_)\n",
    "print(\"\\nBest Parameters: \", tfidf_mnb_search.best_params_)\n",
    "clfs.append(\"Multinomial Naive Bayes\")\n",
    "vecs.append(\"Tfidf Vectorizer\")\n",
    "cvs.append(12)\n",
    "scores.append(tfidf_mnb_search.best_score_)\n",
    "estimators.append(tfidf_mnb_search.best_estimator_)\n",
    "params.append(tfidf_mnb_search.best_params_)"
   ]
  },
  {
   "cell_type": "markdown",
   "metadata": {},
   "source": [
    "<b>Now we can create a dataframe from the results we got from the different experiments to see which one is the most accurate."
   ]
  },
  {
   "cell_type": "code",
   "execution_count": 30,
   "metadata": {},
   "outputs": [
    {
     "data": {
      "text/html": [
       "<div>\n",
       "<style scoped>\n",
       "    .dataframe tbody tr th:only-of-type {\n",
       "        vertical-align: middle;\n",
       "    }\n",
       "\n",
       "    .dataframe tbody tr th {\n",
       "        vertical-align: top;\n",
       "    }\n",
       "\n",
       "    .dataframe thead th {\n",
       "        text-align: right;\n",
       "    }\n",
       "</style>\n",
       "<table border=\"1\" class=\"dataframe\">\n",
       "  <thead>\n",
       "    <tr style=\"text-align: right;\">\n",
       "      <th></th>\n",
       "      <th>classifier</th>\n",
       "      <th>vectorizer</th>\n",
       "      <th>cv_split</th>\n",
       "      <th>score</th>\n",
       "      <th>estimator</th>\n",
       "      <th>parameters</th>\n",
       "    </tr>\n",
       "  </thead>\n",
       "  <tbody>\n",
       "    <tr>\n",
       "      <th>0</th>\n",
       "      <td>Logistic Regression</td>\n",
       "      <td>Count Vectorizer</td>\n",
       "      <td>5</td>\n",
       "      <td>0.662</td>\n",
       "      <td>(CountVectorizer(), LogisticRegression())</td>\n",
       "      <td>{'countVectorizer__ngram_range': (1, 1)}</td>\n",
       "    </tr>\n",
       "    <tr>\n",
       "      <th>1</th>\n",
       "      <td>Logistic Regression</td>\n",
       "      <td>Count Vectorizer</td>\n",
       "      <td>12</td>\n",
       "      <td>0.647</td>\n",
       "      <td>(CountVectorizer(), LogisticRegression())</td>\n",
       "      <td>{'countVectorizer__ngram_range': (1, 1)}</td>\n",
       "    </tr>\n",
       "    <tr>\n",
       "      <th>7</th>\n",
       "      <td>KNN</td>\n",
       "      <td>Tfidf Vectorizer</td>\n",
       "      <td>12</td>\n",
       "      <td>0.641</td>\n",
       "      <td>(TfidfVectorizer(ngram_range=(1, 2)), KNeighbo...</td>\n",
       "      <td>{'knn_clf__n_neighbors': 5, 'tfidfVectorizer__...</td>\n",
       "    </tr>\n",
       "    <tr>\n",
       "      <th>6</th>\n",
       "      <td>KNN</td>\n",
       "      <td>Tfidf Vectorizer</td>\n",
       "      <td>5</td>\n",
       "      <td>0.624</td>\n",
       "      <td>(TfidfVectorizer(ngram_range=(1, 3)), KNeighbo...</td>\n",
       "      <td>{'knn_clf__n_neighbors': 5, 'tfidfVectorizer__...</td>\n",
       "    </tr>\n",
       "    <tr>\n",
       "      <th>11</th>\n",
       "      <td>Decision Tree</td>\n",
       "      <td>Tfidf Vectorizer</td>\n",
       "      <td>12</td>\n",
       "      <td>0.601</td>\n",
       "      <td>(TfidfVectorizer(ngram_range=(1, 3)), Decision...</td>\n",
       "      <td>{'dt_clf__criterion': 'entropy', 'dt_clf__max_...</td>\n",
       "    </tr>\n",
       "    <tr>\n",
       "      <th>10</th>\n",
       "      <td>Decision Tree</td>\n",
       "      <td>Tfidf Vectorizer</td>\n",
       "      <td>5</td>\n",
       "      <td>0.587</td>\n",
       "      <td>(TfidfVectorizer(ngram_range=(1, 2)), Decision...</td>\n",
       "      <td>{'dt_clf__criterion': 'gini', 'dt_clf__max_dep...</td>\n",
       "    </tr>\n",
       "    <tr>\n",
       "      <th>9</th>\n",
       "      <td>Decision Tree</td>\n",
       "      <td>Count Vectorizer</td>\n",
       "      <td>12</td>\n",
       "      <td>0.575</td>\n",
       "      <td>(CountVectorizer(), DecisionTreeClassifier(max...</td>\n",
       "      <td>{'countVectorizer__ngram_range': (1, 1), 'dt_c...</td>\n",
       "    </tr>\n",
       "    <tr>\n",
       "      <th>13</th>\n",
       "      <td>Multinomial Naive Bayes</td>\n",
       "      <td>Count Vectorizer</td>\n",
       "      <td>12</td>\n",
       "      <td>0.561</td>\n",
       "      <td>(CountVectorizer(), MultinomialNB(alpha=0.1))</td>\n",
       "      <td>{'countVectorizer__ngram_range': (1, 1), 'mnb_...</td>\n",
       "    </tr>\n",
       "    <tr>\n",
       "      <th>12</th>\n",
       "      <td>Multinomial Naive Bayes</td>\n",
       "      <td>Count Vectorizer</td>\n",
       "      <td>5</td>\n",
       "      <td>0.554</td>\n",
       "      <td>(CountVectorizer(), MultinomialNB(alpha=0.1))</td>\n",
       "      <td>{'countVectorizer__ngram_range': (1, 1), 'mnb_...</td>\n",
       "    </tr>\n",
       "    <tr>\n",
       "      <th>8</th>\n",
       "      <td>Decision Tree</td>\n",
       "      <td>Count Vectorizer</td>\n",
       "      <td>5</td>\n",
       "      <td>0.550</td>\n",
       "      <td>(CountVectorizer(ngram_range=(1, 2)), Decision...</td>\n",
       "      <td>{'countVectorizer__ngram_range': (1, 2), 'dt_c...</td>\n",
       "    </tr>\n",
       "    <tr>\n",
       "      <th>4</th>\n",
       "      <td>KNN</td>\n",
       "      <td>Count Vectorizer</td>\n",
       "      <td>5</td>\n",
       "      <td>0.538</td>\n",
       "      <td>(CountVectorizer(), KNeighborsClassifier(n_nei...</td>\n",
       "      <td>{'countVectorizer__ngram_range': (1, 1), 'knn_...</td>\n",
       "    </tr>\n",
       "    <tr>\n",
       "      <th>5</th>\n",
       "      <td>KNN</td>\n",
       "      <td>Count Vectorizer</td>\n",
       "      <td>12</td>\n",
       "      <td>0.524</td>\n",
       "      <td>(CountVectorizer(), KNeighborsClassifier(n_nei...</td>\n",
       "      <td>{'countVectorizer__ngram_range': (1, 1), 'knn_...</td>\n",
       "    </tr>\n",
       "    <tr>\n",
       "      <th>15</th>\n",
       "      <td>Multinomial Naive Bayes</td>\n",
       "      <td>Tfidf Vectorizer</td>\n",
       "      <td>12</td>\n",
       "      <td>0.475</td>\n",
       "      <td>(TfidfVectorizer(ngram_range=(1, 2)), Multinom...</td>\n",
       "      <td>{'mnb_clf__alpha': 0.1, 'tfidfVectorizer__ngra...</td>\n",
       "    </tr>\n",
       "    <tr>\n",
       "      <th>14</th>\n",
       "      <td>Multinomial Naive Bayes</td>\n",
       "      <td>Tfidf Vectorizer</td>\n",
       "      <td>5</td>\n",
       "      <td>0.466</td>\n",
       "      <td>(TfidfVectorizer(ngram_range=(1, 2)), Multinom...</td>\n",
       "      <td>{'mnb_clf__alpha': 0.1, 'tfidfVectorizer__ngra...</td>\n",
       "    </tr>\n",
       "    <tr>\n",
       "      <th>3</th>\n",
       "      <td>Logistic Regression</td>\n",
       "      <td>Tfidf Vectorizer</td>\n",
       "      <td>12</td>\n",
       "      <td>0.433</td>\n",
       "      <td>(TfidfVectorizer(), LogisticRegression())</td>\n",
       "      <td>{'tfidfVectorizer__ngram_range': (1, 1)}</td>\n",
       "    </tr>\n",
       "    <tr>\n",
       "      <th>2</th>\n",
       "      <td>Logistic Regression</td>\n",
       "      <td>Tfidf Vectorizer</td>\n",
       "      <td>5</td>\n",
       "      <td>0.433</td>\n",
       "      <td>(TfidfVectorizer(), LogisticRegression())</td>\n",
       "      <td>{'tfidfVectorizer__ngram_range': (1, 1)}</td>\n",
       "    </tr>\n",
       "  </tbody>\n",
       "</table>\n",
       "</div>"
      ],
      "text/plain": [
       "                 classifier        vectorizer  cv_split  score  \\\n",
       "0       Logistic Regression  Count Vectorizer         5  0.662   \n",
       "1       Logistic Regression  Count Vectorizer        12  0.647   \n",
       "7                       KNN  Tfidf Vectorizer        12  0.641   \n",
       "6                       KNN  Tfidf Vectorizer         5  0.624   \n",
       "11            Decision Tree  Tfidf Vectorizer        12  0.601   \n",
       "10            Decision Tree  Tfidf Vectorizer         5  0.587   \n",
       "9             Decision Tree  Count Vectorizer        12  0.575   \n",
       "13  Multinomial Naive Bayes  Count Vectorizer        12  0.561   \n",
       "12  Multinomial Naive Bayes  Count Vectorizer         5  0.554   \n",
       "8             Decision Tree  Count Vectorizer         5  0.550   \n",
       "4                       KNN  Count Vectorizer         5  0.538   \n",
       "5                       KNN  Count Vectorizer        12  0.524   \n",
       "15  Multinomial Naive Bayes  Tfidf Vectorizer        12  0.475   \n",
       "14  Multinomial Naive Bayes  Tfidf Vectorizer         5  0.466   \n",
       "3       Logistic Regression  Tfidf Vectorizer        12  0.433   \n",
       "2       Logistic Regression  Tfidf Vectorizer         5  0.433   \n",
       "\n",
       "                                            estimator  \\\n",
       "0           (CountVectorizer(), LogisticRegression())   \n",
       "1           (CountVectorizer(), LogisticRegression())   \n",
       "7   (TfidfVectorizer(ngram_range=(1, 2)), KNeighbo...   \n",
       "6   (TfidfVectorizer(ngram_range=(1, 3)), KNeighbo...   \n",
       "11  (TfidfVectorizer(ngram_range=(1, 3)), Decision...   \n",
       "10  (TfidfVectorizer(ngram_range=(1, 2)), Decision...   \n",
       "9   (CountVectorizer(), DecisionTreeClassifier(max...   \n",
       "13      (CountVectorizer(), MultinomialNB(alpha=0.1))   \n",
       "12      (CountVectorizer(), MultinomialNB(alpha=0.1))   \n",
       "8   (CountVectorizer(ngram_range=(1, 2)), Decision...   \n",
       "4   (CountVectorizer(), KNeighborsClassifier(n_nei...   \n",
       "5   (CountVectorizer(), KNeighborsClassifier(n_nei...   \n",
       "15  (TfidfVectorizer(ngram_range=(1, 2)), Multinom...   \n",
       "14  (TfidfVectorizer(ngram_range=(1, 2)), Multinom...   \n",
       "3           (TfidfVectorizer(), LogisticRegression())   \n",
       "2           (TfidfVectorizer(), LogisticRegression())   \n",
       "\n",
       "                                           parameters  \n",
       "0            {'countVectorizer__ngram_range': (1, 1)}  \n",
       "1            {'countVectorizer__ngram_range': (1, 1)}  \n",
       "7   {'knn_clf__n_neighbors': 5, 'tfidfVectorizer__...  \n",
       "6   {'knn_clf__n_neighbors': 5, 'tfidfVectorizer__...  \n",
       "11  {'dt_clf__criterion': 'entropy', 'dt_clf__max_...  \n",
       "10  {'dt_clf__criterion': 'gini', 'dt_clf__max_dep...  \n",
       "9   {'countVectorizer__ngram_range': (1, 1), 'dt_c...  \n",
       "13  {'countVectorizer__ngram_range': (1, 1), 'mnb_...  \n",
       "12  {'countVectorizer__ngram_range': (1, 1), 'mnb_...  \n",
       "8   {'countVectorizer__ngram_range': (1, 2), 'dt_c...  \n",
       "4   {'countVectorizer__ngram_range': (1, 1), 'knn_...  \n",
       "5   {'countVectorizer__ngram_range': (1, 1), 'knn_...  \n",
       "15  {'mnb_clf__alpha': 0.1, 'tfidfVectorizer__ngra...  \n",
       "14  {'mnb_clf__alpha': 0.1, 'tfidfVectorizer__ngra...  \n",
       "3            {'tfidfVectorizer__ngram_range': (1, 1)}  \n",
       "2            {'tfidfVectorizer__ngram_range': (1, 1)}  "
      ]
     },
     "execution_count": 30,
     "metadata": {},
     "output_type": "execute_result"
    }
   ],
   "source": [
    "results=pd.DataFrame({\"classifier\":clfs,\"vectorizer\":vecs,\"cv_split\":cvs,\"score\":scores,\"estimator\":estimators,\"parameters\":params})\n",
    "results.sort_values(by=[\"score\"], ascending=False )"
   ]
  },
  {
   "cell_type": "markdown",
   "metadata": {},
   "source": [
    "<b>As we can easily see, the <u>Count Vectorizer and Logistic Regression</u> pair had the highest F1 score.\n",
    "Now we use the pipeline with said pair to try and predict the genders of the test stories."
   ]
  },
  {
   "cell_type": "code",
   "execution_count": 31,
   "metadata": {},
   "outputs": [
    {
     "data": {
      "text/plain": [
       "Pipeline(steps=[('countVectorizer', CountVectorizer()),\n",
       "                ('log_reg_clf', LogisticRegression())])"
      ]
     },
     "execution_count": 31,
     "metadata": {},
     "output_type": "execute_result"
    },
    {
     "data": {
      "text/plain": [
       "m    282\n",
       "f     41\n",
       "Name: predicted_category, dtype: int64"
      ]
     },
     "execution_count": 31,
     "metadata": {},
     "output_type": "execute_result"
    },
    {
     "data": {
      "text/html": [
       "<div>\n",
       "<style scoped>\n",
       "    .dataframe tbody tr th:only-of-type {\n",
       "        vertical-align: middle;\n",
       "    }\n",
       "\n",
       "    .dataframe tbody tr th {\n",
       "        vertical-align: top;\n",
       "    }\n",
       "\n",
       "    .dataframe thead th {\n",
       "        text-align: right;\n",
       "    }\n",
       "</style>\n",
       "<table border=\"1\" class=\"dataframe\">\n",
       "  <thead>\n",
       "    <tr style=\"text-align: right;\">\n",
       "      <th></th>\n",
       "      <th>test_story_id</th>\n",
       "      <th>predicted_category</th>\n",
       "    </tr>\n",
       "  </thead>\n",
       "  <tbody>\n",
       "    <tr>\n",
       "      <th>0</th>\n",
       "      <td>0</td>\n",
       "      <td>m</td>\n",
       "    </tr>\n",
       "    <tr>\n",
       "      <th>1</th>\n",
       "      <td>1</td>\n",
       "      <td>m</td>\n",
       "    </tr>\n",
       "    <tr>\n",
       "      <th>2</th>\n",
       "      <td>2</td>\n",
       "      <td>m</td>\n",
       "    </tr>\n",
       "    <tr>\n",
       "      <th>3</th>\n",
       "      <td>3</td>\n",
       "      <td>m</td>\n",
       "    </tr>\n",
       "    <tr>\n",
       "      <th>4</th>\n",
       "      <td>4</td>\n",
       "      <td>f</td>\n",
       "    </tr>\n",
       "    <tr>\n",
       "      <th>318</th>\n",
       "      <td>318</td>\n",
       "      <td>m</td>\n",
       "    </tr>\n",
       "    <tr>\n",
       "      <th>319</th>\n",
       "      <td>319</td>\n",
       "      <td>m</td>\n",
       "    </tr>\n",
       "    <tr>\n",
       "      <th>320</th>\n",
       "      <td>320</td>\n",
       "      <td>m</td>\n",
       "    </tr>\n",
       "    <tr>\n",
       "      <th>321</th>\n",
       "      <td>321</td>\n",
       "      <td>m</td>\n",
       "    </tr>\n",
       "    <tr>\n",
       "      <th>322</th>\n",
       "      <td>322</td>\n",
       "      <td>m</td>\n",
       "    </tr>\n",
       "  </tbody>\n",
       "</table>\n",
       "</div>"
      ],
      "text/plain": [
       "     test_story_id predicted_category\n",
       "0                0                  m\n",
       "1                1                  m\n",
       "2                2                  m\n",
       "3                3                  m\n",
       "4                4                  f\n",
       "318            318                  m\n",
       "319            319                  m\n",
       "320            320                  m\n",
       "321            321                  m\n",
       "322            322                  m"
      ]
     },
     "execution_count": 31,
     "metadata": {},
     "output_type": "execute_result"
    }
   ],
   "source": [
    "cv_logReg_pipe.fit(processed_df[\"story\"], processed_df[\"gender\"])\n",
    "prediction = cv_logReg_pipe.predict(processed_test['story'])\n",
    "df_predicted=pd.DataFrame({'test_story_id': processed_test['test_example_id'], 'predicted_category': prediction})\n",
    "df_predicted['predicted_category']=df_predicted['predicted_category'].replace({1:\"m\",0:\"f\"})\n",
    "df_predicted[\"predicted_category\"].value_counts()\n",
    "pd.concat([df_predicted.head(5), df_predicted.tail(5)])"
   ]
  },
  {
   "cell_type": "markdown",
   "metadata": {},
   "source": [
    "### Save output to csv (optional)\n",
    "After you're done save your output to the 'classification_results.csv' csv file.<br/>\n",
    "We assume that the dataframe with your results contain the following columns:\n",
    "* column 1 (left column): 'test_example_id'  - the same id associated to each of the test stories to be predicted.\n",
    "* column 2 (right column): 'predicted_category' - the predicted gender value for each of the associated story. \n",
    "\n",
    "Assuming your predicted values are in the `df_predicted` dataframe, you should save you're results as following:"
   ]
  },
  {
   "cell_type": "code",
   "execution_count": 32,
   "metadata": {},
   "outputs": [],
   "source": [
    "df_predicted.to_csv('classification_results.csv',index=False)"
   ]
  }
 ],
 "metadata": {
  "celltoolbar": "Create Assignment",
  "kernelspec": {
   "display_name": "Python 3 (ipykernel)",
   "language": "python",
   "name": "python3"
  },
  "language_info": {
   "codemirror_mode": {
    "name": "ipython",
    "version": 3
   },
   "file_extension": ".py",
   "mimetype": "text/x-python",
   "name": "python",
   "nbconvert_exporter": "python",
   "pygments_lexer": "ipython3",
   "version": "3.9.13"
  }
 },
 "nbformat": 4,
 "nbformat_minor": 4
}
